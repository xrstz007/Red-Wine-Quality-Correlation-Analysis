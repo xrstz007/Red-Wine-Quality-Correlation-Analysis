{
 "cells": [
  {
   "cell_type": "code",
   "execution_count": 1,
   "id": "1a8f178a",
   "metadata": {},
   "outputs": [],
   "source": [
    "import pandas as pd\n",
    "import numpy as np\n",
    "import seaborn as sns\n",
    "import matplotlib.pyplot as plt"
   ]
  },
  {
   "cell_type": "code",
   "execution_count": 2,
   "id": "1a3ae47d",
   "metadata": {},
   "outputs": [],
   "source": [
    "df = pd.read_csv('winequality-red.csv')"
   ]
  },
  {
   "cell_type": "code",
   "execution_count": 3,
   "id": "0a032650",
   "metadata": {},
   "outputs": [
    {
     "data": {
      "text/html": [
       "<div>\n",
       "<style scoped>\n",
       "    .dataframe tbody tr th:only-of-type {\n",
       "        vertical-align: middle;\n",
       "    }\n",
       "\n",
       "    .dataframe tbody tr th {\n",
       "        vertical-align: top;\n",
       "    }\n",
       "\n",
       "    .dataframe thead th {\n",
       "        text-align: right;\n",
       "    }\n",
       "</style>\n",
       "<table border=\"1\" class=\"dataframe\">\n",
       "  <thead>\n",
       "    <tr style=\"text-align: right;\">\n",
       "      <th></th>\n",
       "      <th>fixed acidity</th>\n",
       "      <th>volatile acidity</th>\n",
       "      <th>citric acid</th>\n",
       "      <th>residual sugar</th>\n",
       "      <th>chlorides</th>\n",
       "      <th>free sulfur dioxide</th>\n",
       "      <th>total sulfur dioxide</th>\n",
       "      <th>density</th>\n",
       "      <th>pH</th>\n",
       "      <th>sulphates</th>\n",
       "      <th>alcohol</th>\n",
       "      <th>quality</th>\n",
       "    </tr>\n",
       "  </thead>\n",
       "  <tbody>\n",
       "    <tr>\n",
       "      <th>0</th>\n",
       "      <td>7.4</td>\n",
       "      <td>0.70</td>\n",
       "      <td>0.00</td>\n",
       "      <td>1.9</td>\n",
       "      <td>0.076</td>\n",
       "      <td>11.0</td>\n",
       "      <td>34.0</td>\n",
       "      <td>0.9978</td>\n",
       "      <td>3.51</td>\n",
       "      <td>0.56</td>\n",
       "      <td>9.4</td>\n",
       "      <td>5</td>\n",
       "    </tr>\n",
       "    <tr>\n",
       "      <th>1</th>\n",
       "      <td>7.8</td>\n",
       "      <td>0.88</td>\n",
       "      <td>0.00</td>\n",
       "      <td>2.6</td>\n",
       "      <td>0.098</td>\n",
       "      <td>25.0</td>\n",
       "      <td>67.0</td>\n",
       "      <td>0.9968</td>\n",
       "      <td>3.20</td>\n",
       "      <td>0.68</td>\n",
       "      <td>9.8</td>\n",
       "      <td>5</td>\n",
       "    </tr>\n",
       "    <tr>\n",
       "      <th>2</th>\n",
       "      <td>7.8</td>\n",
       "      <td>0.76</td>\n",
       "      <td>0.04</td>\n",
       "      <td>2.3</td>\n",
       "      <td>0.092</td>\n",
       "      <td>15.0</td>\n",
       "      <td>54.0</td>\n",
       "      <td>0.9970</td>\n",
       "      <td>3.26</td>\n",
       "      <td>0.65</td>\n",
       "      <td>9.8</td>\n",
       "      <td>5</td>\n",
       "    </tr>\n",
       "    <tr>\n",
       "      <th>3</th>\n",
       "      <td>11.2</td>\n",
       "      <td>0.28</td>\n",
       "      <td>0.56</td>\n",
       "      <td>1.9</td>\n",
       "      <td>0.075</td>\n",
       "      <td>17.0</td>\n",
       "      <td>60.0</td>\n",
       "      <td>0.9980</td>\n",
       "      <td>3.16</td>\n",
       "      <td>0.58</td>\n",
       "      <td>9.8</td>\n",
       "      <td>6</td>\n",
       "    </tr>\n",
       "    <tr>\n",
       "      <th>4</th>\n",
       "      <td>7.4</td>\n",
       "      <td>0.70</td>\n",
       "      <td>0.00</td>\n",
       "      <td>1.9</td>\n",
       "      <td>0.076</td>\n",
       "      <td>11.0</td>\n",
       "      <td>34.0</td>\n",
       "      <td>0.9978</td>\n",
       "      <td>3.51</td>\n",
       "      <td>0.56</td>\n",
       "      <td>9.4</td>\n",
       "      <td>5</td>\n",
       "    </tr>\n",
       "  </tbody>\n",
       "</table>\n",
       "</div>"
      ],
      "text/plain": [
       "   fixed acidity  volatile acidity  citric acid  residual sugar  chlorides  \\\n",
       "0            7.4              0.70         0.00             1.9      0.076   \n",
       "1            7.8              0.88         0.00             2.6      0.098   \n",
       "2            7.8              0.76         0.04             2.3      0.092   \n",
       "3           11.2              0.28         0.56             1.9      0.075   \n",
       "4            7.4              0.70         0.00             1.9      0.076   \n",
       "\n",
       "   free sulfur dioxide  total sulfur dioxide  density    pH  sulphates  \\\n",
       "0                 11.0                  34.0   0.9978  3.51       0.56   \n",
       "1                 25.0                  67.0   0.9968  3.20       0.68   \n",
       "2                 15.0                  54.0   0.9970  3.26       0.65   \n",
       "3                 17.0                  60.0   0.9980  3.16       0.58   \n",
       "4                 11.0                  34.0   0.9978  3.51       0.56   \n",
       "\n",
       "   alcohol  quality  \n",
       "0      9.4        5  \n",
       "1      9.8        5  \n",
       "2      9.8        5  \n",
       "3      9.8        6  \n",
       "4      9.4        5  "
      ]
     },
     "execution_count": 3,
     "metadata": {},
     "output_type": "execute_result"
    }
   ],
   "source": [
    "df.head()"
   ]
  },
  {
   "cell_type": "code",
   "execution_count": 4,
   "id": "4de0282b",
   "metadata": {},
   "outputs": [
    {
     "name": "stdout",
     "output_type": "stream",
     "text": [
      "<class 'pandas.core.frame.DataFrame'>\n",
      "RangeIndex: 1599 entries, 0 to 1598\n",
      "Data columns (total 12 columns):\n",
      " #   Column                Non-Null Count  Dtype  \n",
      "---  ------                --------------  -----  \n",
      " 0   fixed acidity         1599 non-null   float64\n",
      " 1   volatile acidity      1599 non-null   float64\n",
      " 2   citric acid           1599 non-null   float64\n",
      " 3   residual sugar        1599 non-null   float64\n",
      " 4   chlorides             1599 non-null   float64\n",
      " 5   free sulfur dioxide   1599 non-null   float64\n",
      " 6   total sulfur dioxide  1599 non-null   float64\n",
      " 7   density               1599 non-null   float64\n",
      " 8   pH                    1599 non-null   float64\n",
      " 9   sulphates             1599 non-null   float64\n",
      " 10  alcohol               1599 non-null   float64\n",
      " 11  quality               1599 non-null   int64  \n",
      "dtypes: float64(11), int64(1)\n",
      "memory usage: 150.0 KB\n"
     ]
    }
   ],
   "source": [
    "df.info()"
   ]
  },
  {
   "cell_type": "code",
   "execution_count": 5,
   "id": "8792b761",
   "metadata": {},
   "outputs": [
    {
     "data": {
      "text/html": [
       "<div>\n",
       "<style scoped>\n",
       "    .dataframe tbody tr th:only-of-type {\n",
       "        vertical-align: middle;\n",
       "    }\n",
       "\n",
       "    .dataframe tbody tr th {\n",
       "        vertical-align: top;\n",
       "    }\n",
       "\n",
       "    .dataframe thead th {\n",
       "        text-align: right;\n",
       "    }\n",
       "</style>\n",
       "<table border=\"1\" class=\"dataframe\">\n",
       "  <thead>\n",
       "    <tr style=\"text-align: right;\">\n",
       "      <th></th>\n",
       "      <th>fixed acidity</th>\n",
       "      <th>volatile acidity</th>\n",
       "      <th>citric acid</th>\n",
       "      <th>residual sugar</th>\n",
       "      <th>chlorides</th>\n",
       "      <th>free sulfur dioxide</th>\n",
       "      <th>total sulfur dioxide</th>\n",
       "      <th>density</th>\n",
       "      <th>pH</th>\n",
       "      <th>sulphates</th>\n",
       "      <th>alcohol</th>\n",
       "      <th>quality</th>\n",
       "    </tr>\n",
       "  </thead>\n",
       "  <tbody>\n",
       "    <tr>\n",
       "      <th>count</th>\n",
       "      <td>1599.000000</td>\n",
       "      <td>1599.000000</td>\n",
       "      <td>1599.000000</td>\n",
       "      <td>1599.000000</td>\n",
       "      <td>1599.000000</td>\n",
       "      <td>1599.000000</td>\n",
       "      <td>1599.000000</td>\n",
       "      <td>1599.000000</td>\n",
       "      <td>1599.000000</td>\n",
       "      <td>1599.000000</td>\n",
       "      <td>1599.000000</td>\n",
       "      <td>1599.000000</td>\n",
       "    </tr>\n",
       "    <tr>\n",
       "      <th>mean</th>\n",
       "      <td>8.319637</td>\n",
       "      <td>0.527821</td>\n",
       "      <td>0.270976</td>\n",
       "      <td>2.538806</td>\n",
       "      <td>0.087467</td>\n",
       "      <td>15.874922</td>\n",
       "      <td>46.467792</td>\n",
       "      <td>0.996747</td>\n",
       "      <td>3.311113</td>\n",
       "      <td>0.658149</td>\n",
       "      <td>10.422983</td>\n",
       "      <td>5.636023</td>\n",
       "    </tr>\n",
       "    <tr>\n",
       "      <th>std</th>\n",
       "      <td>1.741096</td>\n",
       "      <td>0.179060</td>\n",
       "      <td>0.194801</td>\n",
       "      <td>1.409928</td>\n",
       "      <td>0.047065</td>\n",
       "      <td>10.460157</td>\n",
       "      <td>32.895324</td>\n",
       "      <td>0.001887</td>\n",
       "      <td>0.154386</td>\n",
       "      <td>0.169507</td>\n",
       "      <td>1.065668</td>\n",
       "      <td>0.807569</td>\n",
       "    </tr>\n",
       "    <tr>\n",
       "      <th>min</th>\n",
       "      <td>4.600000</td>\n",
       "      <td>0.120000</td>\n",
       "      <td>0.000000</td>\n",
       "      <td>0.900000</td>\n",
       "      <td>0.012000</td>\n",
       "      <td>1.000000</td>\n",
       "      <td>6.000000</td>\n",
       "      <td>0.990070</td>\n",
       "      <td>2.740000</td>\n",
       "      <td>0.330000</td>\n",
       "      <td>8.400000</td>\n",
       "      <td>3.000000</td>\n",
       "    </tr>\n",
       "    <tr>\n",
       "      <th>25%</th>\n",
       "      <td>7.100000</td>\n",
       "      <td>0.390000</td>\n",
       "      <td>0.090000</td>\n",
       "      <td>1.900000</td>\n",
       "      <td>0.070000</td>\n",
       "      <td>7.000000</td>\n",
       "      <td>22.000000</td>\n",
       "      <td>0.995600</td>\n",
       "      <td>3.210000</td>\n",
       "      <td>0.550000</td>\n",
       "      <td>9.500000</td>\n",
       "      <td>5.000000</td>\n",
       "    </tr>\n",
       "    <tr>\n",
       "      <th>50%</th>\n",
       "      <td>7.900000</td>\n",
       "      <td>0.520000</td>\n",
       "      <td>0.260000</td>\n",
       "      <td>2.200000</td>\n",
       "      <td>0.079000</td>\n",
       "      <td>14.000000</td>\n",
       "      <td>38.000000</td>\n",
       "      <td>0.996750</td>\n",
       "      <td>3.310000</td>\n",
       "      <td>0.620000</td>\n",
       "      <td>10.200000</td>\n",
       "      <td>6.000000</td>\n",
       "    </tr>\n",
       "    <tr>\n",
       "      <th>75%</th>\n",
       "      <td>9.200000</td>\n",
       "      <td>0.640000</td>\n",
       "      <td>0.420000</td>\n",
       "      <td>2.600000</td>\n",
       "      <td>0.090000</td>\n",
       "      <td>21.000000</td>\n",
       "      <td>62.000000</td>\n",
       "      <td>0.997835</td>\n",
       "      <td>3.400000</td>\n",
       "      <td>0.730000</td>\n",
       "      <td>11.100000</td>\n",
       "      <td>6.000000</td>\n",
       "    </tr>\n",
       "    <tr>\n",
       "      <th>max</th>\n",
       "      <td>15.900000</td>\n",
       "      <td>1.580000</td>\n",
       "      <td>1.000000</td>\n",
       "      <td>15.500000</td>\n",
       "      <td>0.611000</td>\n",
       "      <td>72.000000</td>\n",
       "      <td>289.000000</td>\n",
       "      <td>1.003690</td>\n",
       "      <td>4.010000</td>\n",
       "      <td>2.000000</td>\n",
       "      <td>14.900000</td>\n",
       "      <td>8.000000</td>\n",
       "    </tr>\n",
       "  </tbody>\n",
       "</table>\n",
       "</div>"
      ],
      "text/plain": [
       "       fixed acidity  volatile acidity  citric acid  residual sugar  \\\n",
       "count    1599.000000       1599.000000  1599.000000     1599.000000   \n",
       "mean        8.319637          0.527821     0.270976        2.538806   \n",
       "std         1.741096          0.179060     0.194801        1.409928   \n",
       "min         4.600000          0.120000     0.000000        0.900000   \n",
       "25%         7.100000          0.390000     0.090000        1.900000   \n",
       "50%         7.900000          0.520000     0.260000        2.200000   \n",
       "75%         9.200000          0.640000     0.420000        2.600000   \n",
       "max        15.900000          1.580000     1.000000       15.500000   \n",
       "\n",
       "         chlorides  free sulfur dioxide  total sulfur dioxide      density  \\\n",
       "count  1599.000000          1599.000000           1599.000000  1599.000000   \n",
       "mean      0.087467            15.874922             46.467792     0.996747   \n",
       "std       0.047065            10.460157             32.895324     0.001887   \n",
       "min       0.012000             1.000000              6.000000     0.990070   \n",
       "25%       0.070000             7.000000             22.000000     0.995600   \n",
       "50%       0.079000            14.000000             38.000000     0.996750   \n",
       "75%       0.090000            21.000000             62.000000     0.997835   \n",
       "max       0.611000            72.000000            289.000000     1.003690   \n",
       "\n",
       "                pH    sulphates      alcohol      quality  \n",
       "count  1599.000000  1599.000000  1599.000000  1599.000000  \n",
       "mean      3.311113     0.658149    10.422983     5.636023  \n",
       "std       0.154386     0.169507     1.065668     0.807569  \n",
       "min       2.740000     0.330000     8.400000     3.000000  \n",
       "25%       3.210000     0.550000     9.500000     5.000000  \n",
       "50%       3.310000     0.620000    10.200000     6.000000  \n",
       "75%       3.400000     0.730000    11.100000     6.000000  \n",
       "max       4.010000     2.000000    14.900000     8.000000  "
      ]
     },
     "execution_count": 5,
     "metadata": {},
     "output_type": "execute_result"
    }
   ],
   "source": [
    "df.describe()"
   ]
  },
  {
   "cell_type": "code",
   "execution_count": 6,
   "id": "81ff4e49",
   "metadata": {},
   "outputs": [
    {
     "data": {
      "text/plain": [
       "fixed acidity           float64\n",
       "volatile acidity        float64\n",
       "citric acid             float64\n",
       "residual sugar          float64\n",
       "chlorides               float64\n",
       "free sulfur dioxide     float64\n",
       "total sulfur dioxide    float64\n",
       "density                 float64\n",
       "pH                      float64\n",
       "sulphates               float64\n",
       "alcohol                 float64\n",
       "quality                   int64\n",
       "dtype: object"
      ]
     },
     "execution_count": 6,
     "metadata": {},
     "output_type": "execute_result"
    }
   ],
   "source": [
    "#check data types\n",
    "df.dtypes"
   ]
  },
  {
   "cell_type": "code",
   "execution_count": 7,
   "id": "8709a1dd",
   "metadata": {},
   "outputs": [
    {
     "data": {
      "text/plain": [
       "fixed acidity           0\n",
       "volatile acidity        0\n",
       "citric acid             0\n",
       "residual sugar          0\n",
       "chlorides               0\n",
       "free sulfur dioxide     0\n",
       "total sulfur dioxide    0\n",
       "density                 0\n",
       "pH                      0\n",
       "sulphates               0\n",
       "alcohol                 0\n",
       "quality                 0\n",
       "dtype: int64"
      ]
     },
     "execution_count": 7,
     "metadata": {},
     "output_type": "execute_result"
    }
   ],
   "source": [
    "#check for missing values\n",
    "df.isnull().sum()"
   ]
  },
  {
   "cell_type": "code",
   "execution_count": 8,
   "id": "7b37591c",
   "metadata": {},
   "outputs": [
    {
     "data": {
      "text/plain": [
       "240"
      ]
     },
     "execution_count": 8,
     "metadata": {},
     "output_type": "execute_result"
    }
   ],
   "source": [
    "#check for duplicates\n",
    "df.duplicated().sum()"
   ]
  },
  {
   "cell_type": "code",
   "execution_count": 9,
   "id": "ff27bb29",
   "metadata": {},
   "outputs": [],
   "source": [
    "df=  df.drop_duplicates()"
   ]
  },
  {
   "cell_type": "code",
   "execution_count": 10,
   "id": "4bacbccd",
   "metadata": {},
   "outputs": [
    {
     "data": {
      "text/plain": [
       "0"
      ]
     },
     "execution_count": 10,
     "metadata": {},
     "output_type": "execute_result"
    }
   ],
   "source": [
    "df.duplicated().sum()"
   ]
  },
  {
   "cell_type": "code",
   "execution_count": 11,
   "id": "62d00fab",
   "metadata": {},
   "outputs": [
    {
     "data": {
      "text/html": [
       "<div>\n",
       "<style scoped>\n",
       "    .dataframe tbody tr th:only-of-type {\n",
       "        vertical-align: middle;\n",
       "    }\n",
       "\n",
       "    .dataframe tbody tr th {\n",
       "        vertical-align: top;\n",
       "    }\n",
       "\n",
       "    .dataframe thead th {\n",
       "        text-align: right;\n",
       "    }\n",
       "</style>\n",
       "<table border=\"1\" class=\"dataframe\">\n",
       "  <thead>\n",
       "    <tr style=\"text-align: right;\">\n",
       "      <th></th>\n",
       "      <th>fixed acidity</th>\n",
       "      <th>volatile acidity</th>\n",
       "      <th>citric acid</th>\n",
       "      <th>residual sugar</th>\n",
       "      <th>chlorides</th>\n",
       "      <th>free sulfur dioxide</th>\n",
       "      <th>total sulfur dioxide</th>\n",
       "      <th>density</th>\n",
       "      <th>pH</th>\n",
       "      <th>sulphates</th>\n",
       "      <th>alcohol</th>\n",
       "      <th>quality</th>\n",
       "    </tr>\n",
       "  </thead>\n",
       "  <tbody>\n",
       "    <tr>\n",
       "      <th>267</th>\n",
       "      <td>7.9</td>\n",
       "      <td>0.350</td>\n",
       "      <td>0.46</td>\n",
       "      <td>3.60</td>\n",
       "      <td>0.078</td>\n",
       "      <td>15.0</td>\n",
       "      <td>37.0</td>\n",
       "      <td>0.99730</td>\n",
       "      <td>3.35</td>\n",
       "      <td>0.86</td>\n",
       "      <td>12.8</td>\n",
       "      <td>8</td>\n",
       "    </tr>\n",
       "    <tr>\n",
       "      <th>588</th>\n",
       "      <td>5.0</td>\n",
       "      <td>0.420</td>\n",
       "      <td>0.24</td>\n",
       "      <td>2.00</td>\n",
       "      <td>0.060</td>\n",
       "      <td>19.0</td>\n",
       "      <td>50.0</td>\n",
       "      <td>0.99170</td>\n",
       "      <td>3.72</td>\n",
       "      <td>0.74</td>\n",
       "      <td>14.0</td>\n",
       "      <td>8</td>\n",
       "    </tr>\n",
       "    <tr>\n",
       "      <th>440</th>\n",
       "      <td>12.6</td>\n",
       "      <td>0.310</td>\n",
       "      <td>0.72</td>\n",
       "      <td>2.20</td>\n",
       "      <td>0.072</td>\n",
       "      <td>6.0</td>\n",
       "      <td>29.0</td>\n",
       "      <td>0.99870</td>\n",
       "      <td>2.88</td>\n",
       "      <td>0.82</td>\n",
       "      <td>9.8</td>\n",
       "      <td>8</td>\n",
       "    </tr>\n",
       "    <tr>\n",
       "      <th>1090</th>\n",
       "      <td>10.0</td>\n",
       "      <td>0.260</td>\n",
       "      <td>0.54</td>\n",
       "      <td>1.90</td>\n",
       "      <td>0.083</td>\n",
       "      <td>42.0</td>\n",
       "      <td>74.0</td>\n",
       "      <td>0.99451</td>\n",
       "      <td>2.98</td>\n",
       "      <td>0.63</td>\n",
       "      <td>11.8</td>\n",
       "      <td>8</td>\n",
       "    </tr>\n",
       "    <tr>\n",
       "      <th>1269</th>\n",
       "      <td>5.5</td>\n",
       "      <td>0.490</td>\n",
       "      <td>0.03</td>\n",
       "      <td>1.80</td>\n",
       "      <td>0.044</td>\n",
       "      <td>28.0</td>\n",
       "      <td>87.0</td>\n",
       "      <td>0.99080</td>\n",
       "      <td>3.50</td>\n",
       "      <td>0.82</td>\n",
       "      <td>14.0</td>\n",
       "      <td>8</td>\n",
       "    </tr>\n",
       "    <tr>\n",
       "      <th>...</th>\n",
       "      <td>...</td>\n",
       "      <td>...</td>\n",
       "      <td>...</td>\n",
       "      <td>...</td>\n",
       "      <td>...</td>\n",
       "      <td>...</td>\n",
       "      <td>...</td>\n",
       "      <td>...</td>\n",
       "      <td>...</td>\n",
       "      <td>...</td>\n",
       "      <td>...</td>\n",
       "      <td>...</td>\n",
       "    </tr>\n",
       "    <tr>\n",
       "      <th>459</th>\n",
       "      <td>11.6</td>\n",
       "      <td>0.580</td>\n",
       "      <td>0.66</td>\n",
       "      <td>2.20</td>\n",
       "      <td>0.074</td>\n",
       "      <td>10.0</td>\n",
       "      <td>47.0</td>\n",
       "      <td>1.00080</td>\n",
       "      <td>3.25</td>\n",
       "      <td>0.57</td>\n",
       "      <td>9.0</td>\n",
       "      <td>3</td>\n",
       "    </tr>\n",
       "    <tr>\n",
       "      <th>1478</th>\n",
       "      <td>7.1</td>\n",
       "      <td>0.875</td>\n",
       "      <td>0.05</td>\n",
       "      <td>5.70</td>\n",
       "      <td>0.082</td>\n",
       "      <td>3.0</td>\n",
       "      <td>14.0</td>\n",
       "      <td>0.99808</td>\n",
       "      <td>3.40</td>\n",
       "      <td>0.52</td>\n",
       "      <td>10.2</td>\n",
       "      <td>3</td>\n",
       "    </tr>\n",
       "    <tr>\n",
       "      <th>690</th>\n",
       "      <td>7.4</td>\n",
       "      <td>1.185</td>\n",
       "      <td>0.00</td>\n",
       "      <td>4.25</td>\n",
       "      <td>0.097</td>\n",
       "      <td>5.0</td>\n",
       "      <td>14.0</td>\n",
       "      <td>0.99660</td>\n",
       "      <td>3.63</td>\n",
       "      <td>0.54</td>\n",
       "      <td>10.7</td>\n",
       "      <td>3</td>\n",
       "    </tr>\n",
       "    <tr>\n",
       "      <th>1469</th>\n",
       "      <td>7.3</td>\n",
       "      <td>0.980</td>\n",
       "      <td>0.05</td>\n",
       "      <td>2.10</td>\n",
       "      <td>0.061</td>\n",
       "      <td>20.0</td>\n",
       "      <td>49.0</td>\n",
       "      <td>0.99705</td>\n",
       "      <td>3.31</td>\n",
       "      <td>0.55</td>\n",
       "      <td>9.7</td>\n",
       "      <td>3</td>\n",
       "    </tr>\n",
       "    <tr>\n",
       "      <th>1299</th>\n",
       "      <td>7.6</td>\n",
       "      <td>1.580</td>\n",
       "      <td>0.00</td>\n",
       "      <td>2.10</td>\n",
       "      <td>0.137</td>\n",
       "      <td>5.0</td>\n",
       "      <td>9.0</td>\n",
       "      <td>0.99476</td>\n",
       "      <td>3.50</td>\n",
       "      <td>0.40</td>\n",
       "      <td>10.9</td>\n",
       "      <td>3</td>\n",
       "    </tr>\n",
       "  </tbody>\n",
       "</table>\n",
       "<p>1359 rows × 12 columns</p>\n",
       "</div>"
      ],
      "text/plain": [
       "      fixed acidity  volatile acidity  citric acid  residual sugar  chlorides  \\\n",
       "267             7.9             0.350         0.46            3.60      0.078   \n",
       "588             5.0             0.420         0.24            2.00      0.060   \n",
       "440            12.6             0.310         0.72            2.20      0.072   \n",
       "1090           10.0             0.260         0.54            1.90      0.083   \n",
       "1269            5.5             0.490         0.03            1.80      0.044   \n",
       "...             ...               ...          ...             ...        ...   \n",
       "459            11.6             0.580         0.66            2.20      0.074   \n",
       "1478            7.1             0.875         0.05            5.70      0.082   \n",
       "690             7.4             1.185         0.00            4.25      0.097   \n",
       "1469            7.3             0.980         0.05            2.10      0.061   \n",
       "1299            7.6             1.580         0.00            2.10      0.137   \n",
       "\n",
       "      free sulfur dioxide  total sulfur dioxide  density    pH  sulphates  \\\n",
       "267                  15.0                  37.0  0.99730  3.35       0.86   \n",
       "588                  19.0                  50.0  0.99170  3.72       0.74   \n",
       "440                   6.0                  29.0  0.99870  2.88       0.82   \n",
       "1090                 42.0                  74.0  0.99451  2.98       0.63   \n",
       "1269                 28.0                  87.0  0.99080  3.50       0.82   \n",
       "...                   ...                   ...      ...   ...        ...   \n",
       "459                  10.0                  47.0  1.00080  3.25       0.57   \n",
       "1478                  3.0                  14.0  0.99808  3.40       0.52   \n",
       "690                   5.0                  14.0  0.99660  3.63       0.54   \n",
       "1469                 20.0                  49.0  0.99705  3.31       0.55   \n",
       "1299                  5.0                   9.0  0.99476  3.50       0.40   \n",
       "\n",
       "      alcohol  quality  \n",
       "267      12.8        8  \n",
       "588      14.0        8  \n",
       "440       9.8        8  \n",
       "1090     11.8        8  \n",
       "1269     14.0        8  \n",
       "...       ...      ...  \n",
       "459       9.0        3  \n",
       "1478     10.2        3  \n",
       "690      10.7        3  \n",
       "1469      9.7        3  \n",
       "1299     10.9        3  \n",
       "\n",
       "[1359 rows x 12 columns]"
      ]
     },
     "execution_count": 11,
     "metadata": {},
     "output_type": "execute_result"
    }
   ],
   "source": [
    "#sort dataframe\n",
    "df_sort = df.sort_values(by='quality', ascending= False)\n",
    "df_sort"
   ]
  },
  {
   "cell_type": "markdown",
   "id": "ebc56a2a",
   "metadata": {},
   "source": [
    "Find correlation between all quantitative variables."
   ]
  },
  {
   "cell_type": "code",
   "execution_count": 12,
   "id": "97ea0d68",
   "metadata": {},
   "outputs": [
    {
     "data": {
      "text/html": [
       "<div>\n",
       "<style scoped>\n",
       "    .dataframe tbody tr th:only-of-type {\n",
       "        vertical-align: middle;\n",
       "    }\n",
       "\n",
       "    .dataframe tbody tr th {\n",
       "        vertical-align: top;\n",
       "    }\n",
       "\n",
       "    .dataframe thead th {\n",
       "        text-align: right;\n",
       "    }\n",
       "</style>\n",
       "<table border=\"1\" class=\"dataframe\">\n",
       "  <thead>\n",
       "    <tr style=\"text-align: right;\">\n",
       "      <th></th>\n",
       "      <th>fixed acidity</th>\n",
       "      <th>volatile acidity</th>\n",
       "      <th>citric acid</th>\n",
       "      <th>residual sugar</th>\n",
       "      <th>chlorides</th>\n",
       "      <th>free sulfur dioxide</th>\n",
       "      <th>total sulfur dioxide</th>\n",
       "      <th>density</th>\n",
       "      <th>pH</th>\n",
       "      <th>sulphates</th>\n",
       "      <th>alcohol</th>\n",
       "      <th>quality</th>\n",
       "    </tr>\n",
       "  </thead>\n",
       "  <tbody>\n",
       "    <tr>\n",
       "      <th>fixed acidity</th>\n",
       "      <td>1.000000</td>\n",
       "      <td>-0.255124</td>\n",
       "      <td>0.667437</td>\n",
       "      <td>0.111025</td>\n",
       "      <td>0.085886</td>\n",
       "      <td>-0.140580</td>\n",
       "      <td>-0.103777</td>\n",
       "      <td>0.670195</td>\n",
       "      <td>-0.686685</td>\n",
       "      <td>0.190269</td>\n",
       "      <td>-0.061596</td>\n",
       "      <td>0.119024</td>\n",
       "    </tr>\n",
       "    <tr>\n",
       "      <th>volatile acidity</th>\n",
       "      <td>-0.255124</td>\n",
       "      <td>1.000000</td>\n",
       "      <td>-0.551248</td>\n",
       "      <td>-0.002449</td>\n",
       "      <td>0.055154</td>\n",
       "      <td>-0.020945</td>\n",
       "      <td>0.071701</td>\n",
       "      <td>0.023943</td>\n",
       "      <td>0.247111</td>\n",
       "      <td>-0.256948</td>\n",
       "      <td>-0.197812</td>\n",
       "      <td>-0.395214</td>\n",
       "    </tr>\n",
       "    <tr>\n",
       "      <th>citric acid</th>\n",
       "      <td>0.667437</td>\n",
       "      <td>-0.551248</td>\n",
       "      <td>1.000000</td>\n",
       "      <td>0.143892</td>\n",
       "      <td>0.210195</td>\n",
       "      <td>-0.048004</td>\n",
       "      <td>0.047358</td>\n",
       "      <td>0.357962</td>\n",
       "      <td>-0.550310</td>\n",
       "      <td>0.326062</td>\n",
       "      <td>0.105108</td>\n",
       "      <td>0.228057</td>\n",
       "    </tr>\n",
       "    <tr>\n",
       "      <th>residual sugar</th>\n",
       "      <td>0.111025</td>\n",
       "      <td>-0.002449</td>\n",
       "      <td>0.143892</td>\n",
       "      <td>1.000000</td>\n",
       "      <td>0.026656</td>\n",
       "      <td>0.160527</td>\n",
       "      <td>0.201038</td>\n",
       "      <td>0.324522</td>\n",
       "      <td>-0.083143</td>\n",
       "      <td>-0.011837</td>\n",
       "      <td>0.063281</td>\n",
       "      <td>0.013640</td>\n",
       "    </tr>\n",
       "    <tr>\n",
       "      <th>chlorides</th>\n",
       "      <td>0.085886</td>\n",
       "      <td>0.055154</td>\n",
       "      <td>0.210195</td>\n",
       "      <td>0.026656</td>\n",
       "      <td>1.000000</td>\n",
       "      <td>0.000749</td>\n",
       "      <td>0.045773</td>\n",
       "      <td>0.193592</td>\n",
       "      <td>-0.270893</td>\n",
       "      <td>0.394557</td>\n",
       "      <td>-0.223824</td>\n",
       "      <td>-0.130988</td>\n",
       "    </tr>\n",
       "    <tr>\n",
       "      <th>free sulfur dioxide</th>\n",
       "      <td>-0.140580</td>\n",
       "      <td>-0.020945</td>\n",
       "      <td>-0.048004</td>\n",
       "      <td>0.160527</td>\n",
       "      <td>0.000749</td>\n",
       "      <td>1.000000</td>\n",
       "      <td>0.667246</td>\n",
       "      <td>-0.018071</td>\n",
       "      <td>0.056631</td>\n",
       "      <td>0.054126</td>\n",
       "      <td>-0.080125</td>\n",
       "      <td>-0.050463</td>\n",
       "    </tr>\n",
       "    <tr>\n",
       "      <th>total sulfur dioxide</th>\n",
       "      <td>-0.103777</td>\n",
       "      <td>0.071701</td>\n",
       "      <td>0.047358</td>\n",
       "      <td>0.201038</td>\n",
       "      <td>0.045773</td>\n",
       "      <td>0.667246</td>\n",
       "      <td>1.000000</td>\n",
       "      <td>0.078141</td>\n",
       "      <td>-0.079257</td>\n",
       "      <td>0.035291</td>\n",
       "      <td>-0.217829</td>\n",
       "      <td>-0.177855</td>\n",
       "    </tr>\n",
       "    <tr>\n",
       "      <th>density</th>\n",
       "      <td>0.670195</td>\n",
       "      <td>0.023943</td>\n",
       "      <td>0.357962</td>\n",
       "      <td>0.324522</td>\n",
       "      <td>0.193592</td>\n",
       "      <td>-0.018071</td>\n",
       "      <td>0.078141</td>\n",
       "      <td>1.000000</td>\n",
       "      <td>-0.355617</td>\n",
       "      <td>0.146036</td>\n",
       "      <td>-0.504995</td>\n",
       "      <td>-0.184252</td>\n",
       "    </tr>\n",
       "    <tr>\n",
       "      <th>pH</th>\n",
       "      <td>-0.686685</td>\n",
       "      <td>0.247111</td>\n",
       "      <td>-0.550310</td>\n",
       "      <td>-0.083143</td>\n",
       "      <td>-0.270893</td>\n",
       "      <td>0.056631</td>\n",
       "      <td>-0.079257</td>\n",
       "      <td>-0.355617</td>\n",
       "      <td>1.000000</td>\n",
       "      <td>-0.214134</td>\n",
       "      <td>0.213418</td>\n",
       "      <td>-0.055245</td>\n",
       "    </tr>\n",
       "    <tr>\n",
       "      <th>sulphates</th>\n",
       "      <td>0.190269</td>\n",
       "      <td>-0.256948</td>\n",
       "      <td>0.326062</td>\n",
       "      <td>-0.011837</td>\n",
       "      <td>0.394557</td>\n",
       "      <td>0.054126</td>\n",
       "      <td>0.035291</td>\n",
       "      <td>0.146036</td>\n",
       "      <td>-0.214134</td>\n",
       "      <td>1.000000</td>\n",
       "      <td>0.091621</td>\n",
       "      <td>0.248835</td>\n",
       "    </tr>\n",
       "    <tr>\n",
       "      <th>alcohol</th>\n",
       "      <td>-0.061596</td>\n",
       "      <td>-0.197812</td>\n",
       "      <td>0.105108</td>\n",
       "      <td>0.063281</td>\n",
       "      <td>-0.223824</td>\n",
       "      <td>-0.080125</td>\n",
       "      <td>-0.217829</td>\n",
       "      <td>-0.504995</td>\n",
       "      <td>0.213418</td>\n",
       "      <td>0.091621</td>\n",
       "      <td>1.000000</td>\n",
       "      <td>0.480343</td>\n",
       "    </tr>\n",
       "    <tr>\n",
       "      <th>quality</th>\n",
       "      <td>0.119024</td>\n",
       "      <td>-0.395214</td>\n",
       "      <td>0.228057</td>\n",
       "      <td>0.013640</td>\n",
       "      <td>-0.130988</td>\n",
       "      <td>-0.050463</td>\n",
       "      <td>-0.177855</td>\n",
       "      <td>-0.184252</td>\n",
       "      <td>-0.055245</td>\n",
       "      <td>0.248835</td>\n",
       "      <td>0.480343</td>\n",
       "      <td>1.000000</td>\n",
       "    </tr>\n",
       "  </tbody>\n",
       "</table>\n",
       "</div>"
      ],
      "text/plain": [
       "                      fixed acidity  volatile acidity  citric acid  \\\n",
       "fixed acidity              1.000000         -0.255124     0.667437   \n",
       "volatile acidity          -0.255124          1.000000    -0.551248   \n",
       "citric acid                0.667437         -0.551248     1.000000   \n",
       "residual sugar             0.111025         -0.002449     0.143892   \n",
       "chlorides                  0.085886          0.055154     0.210195   \n",
       "free sulfur dioxide       -0.140580         -0.020945    -0.048004   \n",
       "total sulfur dioxide      -0.103777          0.071701     0.047358   \n",
       "density                    0.670195          0.023943     0.357962   \n",
       "pH                        -0.686685          0.247111    -0.550310   \n",
       "sulphates                  0.190269         -0.256948     0.326062   \n",
       "alcohol                   -0.061596         -0.197812     0.105108   \n",
       "quality                    0.119024         -0.395214     0.228057   \n",
       "\n",
       "                      residual sugar  chlorides  free sulfur dioxide  \\\n",
       "fixed acidity               0.111025   0.085886            -0.140580   \n",
       "volatile acidity           -0.002449   0.055154            -0.020945   \n",
       "citric acid                 0.143892   0.210195            -0.048004   \n",
       "residual sugar              1.000000   0.026656             0.160527   \n",
       "chlorides                   0.026656   1.000000             0.000749   \n",
       "free sulfur dioxide         0.160527   0.000749             1.000000   \n",
       "total sulfur dioxide        0.201038   0.045773             0.667246   \n",
       "density                     0.324522   0.193592            -0.018071   \n",
       "pH                         -0.083143  -0.270893             0.056631   \n",
       "sulphates                  -0.011837   0.394557             0.054126   \n",
       "alcohol                     0.063281  -0.223824            -0.080125   \n",
       "quality                     0.013640  -0.130988            -0.050463   \n",
       "\n",
       "                      total sulfur dioxide   density        pH  sulphates  \\\n",
       "fixed acidity                    -0.103777  0.670195 -0.686685   0.190269   \n",
       "volatile acidity                  0.071701  0.023943  0.247111  -0.256948   \n",
       "citric acid                       0.047358  0.357962 -0.550310   0.326062   \n",
       "residual sugar                    0.201038  0.324522 -0.083143  -0.011837   \n",
       "chlorides                         0.045773  0.193592 -0.270893   0.394557   \n",
       "free sulfur dioxide               0.667246 -0.018071  0.056631   0.054126   \n",
       "total sulfur dioxide              1.000000  0.078141 -0.079257   0.035291   \n",
       "density                           0.078141  1.000000 -0.355617   0.146036   \n",
       "pH                               -0.079257 -0.355617  1.000000  -0.214134   \n",
       "sulphates                         0.035291  0.146036 -0.214134   1.000000   \n",
       "alcohol                          -0.217829 -0.504995  0.213418   0.091621   \n",
       "quality                          -0.177855 -0.184252 -0.055245   0.248835   \n",
       "\n",
       "                       alcohol   quality  \n",
       "fixed acidity        -0.061596  0.119024  \n",
       "volatile acidity     -0.197812 -0.395214  \n",
       "citric acid           0.105108  0.228057  \n",
       "residual sugar        0.063281  0.013640  \n",
       "chlorides            -0.223824 -0.130988  \n",
       "free sulfur dioxide  -0.080125 -0.050463  \n",
       "total sulfur dioxide -0.217829 -0.177855  \n",
       "density              -0.504995 -0.184252  \n",
       "pH                    0.213418 -0.055245  \n",
       "sulphates             0.091621  0.248835  \n",
       "alcohol               1.000000  0.480343  \n",
       "quality               0.480343  1.000000  "
      ]
     },
     "execution_count": 12,
     "metadata": {},
     "output_type": "execute_result"
    }
   ],
   "source": [
    "corr_matrix = df.corr()\n",
    "corr_matrix"
   ]
  },
  {
   "cell_type": "code",
   "execution_count": 13,
   "id": "8cb698ff",
   "metadata": {},
   "outputs": [
    {
     "data": {
      "text/plain": [
       "pH                fixed acidity      -0.686685\n",
       "fixed acidity     pH                 -0.686685\n",
       "volatile acidity  citric acid        -0.551248\n",
       "citric acid       volatile acidity   -0.551248\n",
       "                  pH                 -0.550310\n",
       "                                        ...   \n",
       "residual sugar    residual sugar      1.000000\n",
       "citric acid       citric acid         1.000000\n",
       "volatile acidity  volatile acidity    1.000000\n",
       "alcohol           alcohol             1.000000\n",
       "quality           quality             1.000000\n",
       "Length: 144, dtype: float64"
      ]
     },
     "execution_count": 13,
     "metadata": {},
     "output_type": "execute_result"
    }
   ],
   "source": [
    "sorted_pairs = corr_matrix.unstack().sort_values()\n",
    "sorted_pairs"
   ]
  },
  {
   "cell_type": "code",
   "execution_count": 14,
   "id": "3e4f667f",
   "metadata": {},
   "outputs": [
    {
     "data": {
      "text/plain": [
       "free sulfur dioxide   total sulfur dioxide    0.667246\n",
       "total sulfur dioxide  free sulfur dioxide     0.667246\n",
       "citric acid           fixed acidity           0.667437\n",
       "fixed acidity         citric acid             0.667437\n",
       "density               fixed acidity           0.670195\n",
       "fixed acidity         density                 0.670195\n",
       "dtype: float64"
      ]
     },
     "execution_count": 14,
     "metadata": {},
     "output_type": "execute_result"
    }
   ],
   "source": [
    "#find pairs that have high correlation.\n",
    "high_corr = sorted_pairs[sorted_pairs > 0.5]\n",
    "high_corr = high_corr[high_corr < 1]\n",
    "high_corr"
   ]
  },
  {
   "cell_type": "markdown",
   "id": "df81fda6",
   "metadata": {},
   "source": [
    "## Visualisations"
   ]
  },
  {
   "cell_type": "code",
   "execution_count": 15,
   "id": "45e48fe1",
   "metadata": {},
   "outputs": [
    {
     "data": {
      "image/png": "[encoded data removed]",
      "text/plain": [
       "<Figure size 1080x432 with 2 Axes>"
      ]
     },
     "metadata": {
      "needs_background": "light"
     },
     "output_type": "display_data"
    }
   ],
   "source": [
    "#create viz to show correlations\n",
    "def label(title, x, y):\n",
    "    plt.title(title)\n",
    "    plt.xlabel(x)\n",
    "    plt.ylabel(y)\n",
    "    plt.show()\n",
    "    \n",
    "plt.figure(figsize= (15,6))\n",
    "sns.heatmap(corr_matrix, annot= True)\n",
    "label('Correlation between all variables', 'Quantitative variables', 'Quantitative variables')"
   ]
  },
  {
   "cell_type": "markdown",
   "id": "ca13ae9a",
   "metadata": {},
   "source": [
    "Alcohol, sulphates and citric acid have positive correlation with quality of red wine."
   ]
  },
  {
   "cell_type": "code",
   "execution_count": 16,
   "id": "b916c9e6",
   "metadata": {},
   "outputs": [
    {
     "data": {
      "text/html": [
       "<div>\n",
       "<style scoped>\n",
       "    .dataframe tbody tr th:only-of-type {\n",
       "        vertical-align: middle;\n",
       "    }\n",
       "\n",
       "    .dataframe tbody tr th {\n",
       "        vertical-align: top;\n",
       "    }\n",
       "\n",
       "    .dataframe thead th {\n",
       "        text-align: right;\n",
       "    }\n",
       "</style>\n",
       "<table border=\"1\" class=\"dataframe\">\n",
       "  <thead>\n",
       "    <tr style=\"text-align: right;\">\n",
       "      <th></th>\n",
       "      <th>fixed acidity</th>\n",
       "      <th>volatile acidity</th>\n",
       "      <th>citric acid</th>\n",
       "      <th>residual sugar</th>\n",
       "      <th>chlorides</th>\n",
       "      <th>free sulfur dioxide</th>\n",
       "      <th>total sulfur dioxide</th>\n",
       "      <th>density</th>\n",
       "      <th>pH</th>\n",
       "      <th>sulphates</th>\n",
       "      <th>alcohol</th>\n",
       "      <th>quality</th>\n",
       "    </tr>\n",
       "  </thead>\n",
       "  <tbody>\n",
       "    <tr>\n",
       "      <th>0</th>\n",
       "      <td>7.4</td>\n",
       "      <td>0.70</td>\n",
       "      <td>0.0</td>\n",
       "      <td>1.9</td>\n",
       "      <td>0.076</td>\n",
       "      <td>11.0</td>\n",
       "      <td>34.0</td>\n",
       "      <td>0.9978</td>\n",
       "      <td>3.51</td>\n",
       "      <td>0.56</td>\n",
       "      <td>9.4</td>\n",
       "      <td>5</td>\n",
       "    </tr>\n",
       "    <tr>\n",
       "      <th>1</th>\n",
       "      <td>7.8</td>\n",
       "      <td>0.88</td>\n",
       "      <td>0.0</td>\n",
       "      <td>2.6</td>\n",
       "      <td>0.098</td>\n",
       "      <td>25.0</td>\n",
       "      <td>67.0</td>\n",
       "      <td>0.9968</td>\n",
       "      <td>3.20</td>\n",
       "      <td>0.68</td>\n",
       "      <td>9.8</td>\n",
       "      <td>5</td>\n",
       "    </tr>\n",
       "  </tbody>\n",
       "</table>\n",
       "</div>"
      ],
      "text/plain": [
       "   fixed acidity  volatile acidity  citric acid  residual sugar  chlorides  \\\n",
       "0            7.4              0.70          0.0             1.9      0.076   \n",
       "1            7.8              0.88          0.0             2.6      0.098   \n",
       "\n",
       "   free sulfur dioxide  total sulfur dioxide  density    pH  sulphates  \\\n",
       "0                 11.0                  34.0   0.9978  3.51       0.56   \n",
       "1                 25.0                  67.0   0.9968  3.20       0.68   \n",
       "\n",
       "   alcohol  quality  \n",
       "0      9.4        5  \n",
       "1      9.8        5  "
      ]
     },
     "execution_count": 16,
     "metadata": {},
     "output_type": "execute_result"
    }
   ],
   "source": [
    "df.head(2)"
   ]
  },
  {
   "cell_type": "code",
   "execution_count": 17,
   "id": "f685400d",
   "metadata": {},
   "outputs": [
    {
     "data": {
      "text/plain": [
       "array([5, 6, 7, 4, 8, 3], dtype=int64)"
      ]
     },
     "execution_count": 17,
     "metadata": {},
     "output_type": "execute_result"
    }
   ],
   "source": [
    "df['quality'].unique()"
   ]
  },
  {
   "cell_type": "code",
   "execution_count": 18,
   "id": "b2ae23fe",
   "metadata": {},
   "outputs": [
    {
     "data": {
      "text/html": [
       "<div>\n",
       "<style scoped>\n",
       "    .dataframe tbody tr th:only-of-type {\n",
       "        vertical-align: middle;\n",
       "    }\n",
       "\n",
       "    .dataframe tbody tr th {\n",
       "        vertical-align: top;\n",
       "    }\n",
       "\n",
       "    .dataframe thead th {\n",
       "        text-align: right;\n",
       "    }\n",
       "</style>\n",
       "<table border=\"1\" class=\"dataframe\">\n",
       "  <thead>\n",
       "    <tr style=\"text-align: right;\">\n",
       "      <th></th>\n",
       "      <th>fixed acidity</th>\n",
       "      <th>volatile acidity</th>\n",
       "      <th>citric acid</th>\n",
       "      <th>residual sugar</th>\n",
       "      <th>chlorides</th>\n",
       "      <th>free sulfur dioxide</th>\n",
       "      <th>total sulfur dioxide</th>\n",
       "      <th>density</th>\n",
       "      <th>pH</th>\n",
       "      <th>sulphates</th>\n",
       "      <th>alcohol</th>\n",
       "      <th>quality</th>\n",
       "      <th>evaluation</th>\n",
       "    </tr>\n",
       "  </thead>\n",
       "  <tbody>\n",
       "    <tr>\n",
       "      <th>0</th>\n",
       "      <td>7.4</td>\n",
       "      <td>0.70</td>\n",
       "      <td>0.0</td>\n",
       "      <td>1.9</td>\n",
       "      <td>0.076</td>\n",
       "      <td>11.0</td>\n",
       "      <td>34.0</td>\n",
       "      <td>0.9978</td>\n",
       "      <td>3.51</td>\n",
       "      <td>0.56</td>\n",
       "      <td>9.4</td>\n",
       "      <td>5</td>\n",
       "      <td>Poor</td>\n",
       "    </tr>\n",
       "    <tr>\n",
       "      <th>1</th>\n",
       "      <td>7.8</td>\n",
       "      <td>0.88</td>\n",
       "      <td>0.0</td>\n",
       "      <td>2.6</td>\n",
       "      <td>0.098</td>\n",
       "      <td>25.0</td>\n",
       "      <td>67.0</td>\n",
       "      <td>0.9968</td>\n",
       "      <td>3.20</td>\n",
       "      <td>0.68</td>\n",
       "      <td>9.8</td>\n",
       "      <td>5</td>\n",
       "      <td>Poor</td>\n",
       "    </tr>\n",
       "  </tbody>\n",
       "</table>\n",
       "</div>"
      ],
      "text/plain": [
       "   fixed acidity  volatile acidity  citric acid  residual sugar  chlorides  \\\n",
       "0            7.4              0.70          0.0             1.9      0.076   \n",
       "1            7.8              0.88          0.0             2.6      0.098   \n",
       "\n",
       "   free sulfur dioxide  total sulfur dioxide  density    pH  sulphates  \\\n",
       "0                 11.0                  34.0   0.9978  3.51       0.56   \n",
       "1                 25.0                  67.0   0.9968  3.20       0.68   \n",
       "\n",
       "   alcohol  quality evaluation  \n",
       "0      9.4        5       Poor  \n",
       "1      9.8        5       Poor  "
      ]
     },
     "execution_count": 18,
     "metadata": {},
     "output_type": "execute_result"
    }
   ],
   "source": [
    "#Create another column to divide quality into Poor and Good.\n",
    "evaluate = lambda x: 'Poor' if x < 6 else 'Good'\n",
    "df['evaluation'] = df['quality'].apply(evaluate)\n",
    "df.head(2)"
   ]
  },
  {
   "cell_type": "code",
   "execution_count": 19,
   "id": "bb133b67",
   "metadata": {},
   "outputs": [
    {
     "data": {
      "text/html": [
       "<div>\n",
       "<style scoped>\n",
       "    .dataframe tbody tr th:only-of-type {\n",
       "        vertical-align: middle;\n",
       "    }\n",
       "\n",
       "    .dataframe tbody tr th {\n",
       "        vertical-align: top;\n",
       "    }\n",
       "\n",
       "    .dataframe thead th {\n",
       "        text-align: right;\n",
       "    }\n",
       "</style>\n",
       "<table border=\"1\" class=\"dataframe\">\n",
       "  <thead>\n",
       "    <tr style=\"text-align: right;\">\n",
       "      <th></th>\n",
       "      <th>evaluation</th>\n",
       "      <th>alcohol</th>\n",
       "    </tr>\n",
       "  </thead>\n",
       "  <tbody>\n",
       "    <tr>\n",
       "      <th>0</th>\n",
       "      <td>Good</td>\n",
       "      <td>10.887645</td>\n",
       "    </tr>\n",
       "    <tr>\n",
       "      <th>1</th>\n",
       "      <td>Poor</td>\n",
       "      <td>9.920781</td>\n",
       "    </tr>\n",
       "  </tbody>\n",
       "</table>\n",
       "</div>"
      ],
      "text/plain": [
       "  evaluation    alcohol\n",
       "0       Good  10.887645\n",
       "1       Poor   9.920781"
      ]
     },
     "execution_count": 19,
     "metadata": {},
     "output_type": "execute_result"
    }
   ],
   "source": [
    "alc= df.groupby('evaluation').alcohol.mean().reset_index()\n",
    "alc"
   ]
  },
  {
   "cell_type": "code",
   "execution_count": 20,
   "id": "46f11e22",
   "metadata": {},
   "outputs": [
    {
     "data": {
      "image/png": "[encoded data removed]",
      "text/plain": [
       "<Figure size 864x360 with 1 Axes>"
      ]
     },
     "metadata": {
      "needs_background": "light"
     },
     "output_type": "display_data"
    }
   ],
   "source": [
    "plt.figure(figsize= (12,5))\n",
    "sns.barplot(x= 'evaluation', y= 'alcohol', data= alc)\n",
    "label('Average Alcohol Level of Good Red Wine Quality vs Poor Red wine Quality', 'Red Wine Quality', 'Alcohol Level')"
   ]
  },
  {
   "cell_type": "code",
   "execution_count": 21,
   "id": "48c56fc2",
   "metadata": {},
   "outputs": [
    {
     "data": {
      "text/html": [
       "<div>\n",
       "<style scoped>\n",
       "    .dataframe tbody tr th:only-of-type {\n",
       "        vertical-align: middle;\n",
       "    }\n",
       "\n",
       "    .dataframe tbody tr th {\n",
       "        vertical-align: top;\n",
       "    }\n",
       "\n",
       "    .dataframe thead th {\n",
       "        text-align: right;\n",
       "    }\n",
       "</style>\n",
       "<table border=\"1\" class=\"dataframe\">\n",
       "  <thead>\n",
       "    <tr style=\"text-align: right;\">\n",
       "      <th></th>\n",
       "      <th>evaluation</th>\n",
       "      <th>sulphates</th>\n",
       "    </tr>\n",
       "  </thead>\n",
       "  <tbody>\n",
       "    <tr>\n",
       "      <th>0</th>\n",
       "      <td>Good</td>\n",
       "      <td>0.692726</td>\n",
       "    </tr>\n",
       "    <tr>\n",
       "      <th>1</th>\n",
       "      <td>Poor</td>\n",
       "      <td>0.620484</td>\n",
       "    </tr>\n",
       "  </tbody>\n",
       "</table>\n",
       "</div>"
      ],
      "text/plain": [
       "  evaluation  sulphates\n",
       "0       Good   0.692726\n",
       "1       Poor   0.620484"
      ]
     },
     "execution_count": 21,
     "metadata": {},
     "output_type": "execute_result"
    }
   ],
   "source": [
    "sulph= df.groupby('evaluation').sulphates.mean().reset_index()\n",
    "sulph"
   ]
  },
  {
   "cell_type": "code",
   "execution_count": 22,
   "id": "490aaf2a",
   "metadata": {},
   "outputs": [
    {
     "data": {
      "image/png": "[encoded data removed]",
      "text/plain": [
       "<Figure size 864x360 with 1 Axes>"
      ]
     },
     "metadata": {
      "needs_background": "light"
     },
     "output_type": "display_data"
    }
   ],
   "source": [
    "plt.figure(figsize= (12,5))\n",
    "sns.barplot(x= 'evaluation', y= 'sulphates', data= sulph)\n",
    "label('Average Sulphate Qty of Good Red Wine Quality vs Poor Red wine Quality', 'Red Wine Quality', 'Sulphate')"
   ]
  },
  {
   "cell_type": "code",
   "execution_count": 23,
   "id": "336f8b2c",
   "metadata": {},
   "outputs": [
    {
     "data": {
      "text/html": [
       "<div>\n",
       "<style scoped>\n",
       "    .dataframe tbody tr th:only-of-type {\n",
       "        vertical-align: middle;\n",
       "    }\n",
       "\n",
       "    .dataframe tbody tr th {\n",
       "        vertical-align: top;\n",
       "    }\n",
       "\n",
       "    .dataframe thead th {\n",
       "        text-align: right;\n",
       "    }\n",
       "</style>\n",
       "<table border=\"1\" class=\"dataframe\">\n",
       "  <thead>\n",
       "    <tr style=\"text-align: right;\">\n",
       "      <th></th>\n",
       "      <th>evaluation</th>\n",
       "      <th>pH</th>\n",
       "    </tr>\n",
       "  </thead>\n",
       "  <tbody>\n",
       "    <tr>\n",
       "      <th>0</th>\n",
       "      <td>Good</td>\n",
       "      <td>3.310473</td>\n",
       "    </tr>\n",
       "    <tr>\n",
       "      <th>1</th>\n",
       "      <td>Poor</td>\n",
       "      <td>3.309016</td>\n",
       "    </tr>\n",
       "  </tbody>\n",
       "</table>\n",
       "</div>"
      ],
      "text/plain": [
       "  evaluation        pH\n",
       "0       Good  3.310473\n",
       "1       Poor  3.309016"
      ]
     },
     "execution_count": 23,
     "metadata": {},
     "output_type": "execute_result"
    }
   ],
   "source": [
    "ph= df.groupby('evaluation').pH.mean().reset_index()\n",
    "ph"
   ]
  },
  {
   "cell_type": "code",
   "execution_count": 24,
   "id": "d69576d4",
   "metadata": {},
   "outputs": [
    {
     "data": {
      "image/png": "[encoded data removed]",
      "text/plain": [
       "<Figure size 864x360 with 1 Axes>"
      ]
     },
     "metadata": {
      "needs_background": "light"
     },
     "output_type": "display_data"
    }
   ],
   "source": [
    "plt.figure(figsize= (12,5))\n",
    "sns.barplot(x= 'evaluation', y= 'pH', data= ph)\n",
    "label('Average pH Level of Good Red Wine Quality vs Poor Red wine Quality', 'Red Wine Quality', 'Alcohol Level')"
   ]
  },
  {
   "cell_type": "markdown",
   "id": "38c0ad19",
   "metadata": {},
   "source": [
    "Regardless of quality, red wines have similar pH levels around 3.3"
   ]
  },
  {
   "cell_type": "code",
   "execution_count": 25,
   "id": "4cae0c4c",
   "metadata": {},
   "outputs": [
    {
     "data": {
      "text/html": [
       "<div>\n",
       "<style scoped>\n",
       "    .dataframe tbody tr th:only-of-type {\n",
       "        vertical-align: middle;\n",
       "    }\n",
       "\n",
       "    .dataframe tbody tr th {\n",
       "        vertical-align: top;\n",
       "    }\n",
       "\n",
       "    .dataframe thead th {\n",
       "        text-align: right;\n",
       "    }\n",
       "</style>\n",
       "<table border=\"1\" class=\"dataframe\">\n",
       "  <thead>\n",
       "    <tr style=\"text-align: right;\">\n",
       "      <th></th>\n",
       "      <th>evaluation</th>\n",
       "      <th>density</th>\n",
       "    </tr>\n",
       "  </thead>\n",
       "  <tbody>\n",
       "    <tr>\n",
       "      <th>0</th>\n",
       "      <td>Good</td>\n",
       "      <td>0.996411</td>\n",
       "    </tr>\n",
       "    <tr>\n",
       "      <th>1</th>\n",
       "      <td>Poor</td>\n",
       "      <td>0.997044</td>\n",
       "    </tr>\n",
       "  </tbody>\n",
       "</table>\n",
       "</div>"
      ],
      "text/plain": [
       "  evaluation   density\n",
       "0       Good  0.996411\n",
       "1       Poor  0.997044"
      ]
     },
     "execution_count": 25,
     "metadata": {},
     "output_type": "execute_result"
    }
   ],
   "source": [
    "dens= df.groupby('evaluation').density.mean().reset_index()\n",
    "dens"
   ]
  },
  {
   "cell_type": "code",
   "execution_count": 26,
   "id": "2da6c81f",
   "metadata": {},
   "outputs": [
    {
     "data": {
      "image/png": "[encoded data removed]",
      "text/plain": [
       "<Figure size 864x360 with 1 Axes>"
      ]
     },
     "metadata": {
      "needs_background": "light"
     },
     "output_type": "display_data"
    }
   ],
   "source": [
    "plt.figure(figsize= (12,5))\n",
    "sns.barplot(x= 'evaluation', y= 'density', data= dens)\n",
    "label('Average Density of Good Red Wine Quality vs Poor Red wine Quality', 'Red Wine Quality', 'Alcohol Level')"
   ]
  },
  {
   "cell_type": "markdown",
   "id": "74589614",
   "metadata": {},
   "source": [
    "As noticed with pH, red wine samples have similar density of 0.99."
   ]
  },
  {
   "cell_type": "markdown",
   "id": "4a4ae11c",
   "metadata": {},
   "source": [
    "#### pH and Residual Sugar"
   ]
  },
  {
   "cell_type": "code",
   "execution_count": 27,
   "id": "cfd67b92",
   "metadata": {},
   "outputs": [
    {
     "data": {
      "text/plain": [
       "Index(['fixed acidity', 'volatile acidity', 'citric acid', 'residual sugar',\n",
       "       'chlorides', 'free sulfur dioxide', 'total sulfur dioxide', 'density',\n",
       "       'pH', 'sulphates', 'alcohol', 'quality', 'evaluation'],\n",
       "      dtype='object')"
      ]
     },
     "execution_count": 27,
     "metadata": {},
     "output_type": "execute_result"
    }
   ],
   "source": [
    "df.columns"
   ]
  },
  {
   "cell_type": "code",
   "execution_count": 28,
   "id": "80713417",
   "metadata": {},
   "outputs": [
    {
     "data": {
      "image/png": "[encoded data removed]",
      "text/plain": [
       "<Figure size 864x360 with 1 Axes>"
      ]
     },
     "metadata": {
      "needs_background": "light"
     },
     "output_type": "display_data"
    }
   ],
   "source": [
    "plt.figure(figsize= (12,5))\n",
    "sns.regplot(x= 'pH', y= 'residual sugar', data= df_sort, line_kws={'color': 'black'})\n",
    "label('Residual Sugar vs pH', 'pH', 'Residual Sugar')"
   ]
  },
  {
   "cell_type": "code",
   "execution_count": null,
   "id": "5a07e689",
   "metadata": {},
   "outputs": [],
   "source": []
  }
 ],
 "metadata": {
  "kernelspec": {
   "display_name": "Python 3 (ipykernel)",
   "language": "python",
   "name": "python3"
  },
  "language_info": {
   "codemirror_mode": {
    "name": "ipython",
    "version": 3
   },
   "file_extension": ".py",
   "mimetype": "text/x-python",
   "name": "python",
   "nbconvert_exporter": "python",
   "pygments_lexer": "ipython3",
   "version": "3.9.7"
  }
 },
 "nbformat": 4,
 "nbformat_minor": 5
}
